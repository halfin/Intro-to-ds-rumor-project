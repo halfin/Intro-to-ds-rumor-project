{
 "cells": [
  {
   "cell_type": "code",
   "execution_count": 1,
   "metadata": {
    "pycharm": {
     "is_executing": false
    }
   },
   "outputs": [],
   "source": [
    "# coding:utf-8\n",
    "import numpy as np\n",
    "import json\n",
    "import os\n",
    "import jieba\n",
    "import jieba.analyse\n",
    "import re\n",
    "from snownlp import SnowNLP"
   ]
  },
  {
   "cell_type": "code",
   "execution_count": 2,
   "metadata": {
    "pycharm": {
     "is_executing": false
    }
   },
   "outputs": [],
   "source": [
    "##parameter\n",
    "data_place = r\".\\original-microblog\"\n",
    "\n",
    "##hyper-parameter\n",
    "top_word = 20##分词超参数\n",
    "allowpos = ('ns', 'n', 'vn', 'v','a','e','d','o','r')##关键词属性设置"
   ]
  },
  {
   "cell_type": "code",
   "execution_count": 3,
   "metadata": {
    "pycharm": {
     "is_executing": false
    }
   },
   "outputs": [],
   "source": [
    "##feature\n",
    "##content feature\n",
    "corpus = []##语料库\n",
    "exclamation_mark = []##感叹号个数\n",
    "question_mark = []##问号个数\n",
    "postive_words = []##褒义词个数\n",
    "negative_words = []##贬义词个数\n",
    "positive_rate = []##这条微博的积极性"
   ]
  },
  {
   "cell_type": "code",
   "execution_count": 4,
   "metadata": {
    "pycharm": {
     "is_executing": false
    }
   },
   "outputs": [],
   "source": [
    "##weibo feature\n",
    "has_url = []##微博当中是否含有超链接\n",
    "##user feature\n",
    "description = []##原始微博发布者是否有描述\n",
    "gender = []##原始微博发布者性别\n",
    "followers = []##原始微博发布者被关注量\n",
    "friends = []##原始微博发布者朋友数\n",
    "verified = []##用户是否认证\n",
    "##label\n",
    "category = []##类别"
   ]
  },
  {
   "cell_type": "code",
   "execution_count": 5,
   "metadata": {
    "pycharm": {
     "is_executing": false
    }
   },
   "outputs": [],
   "source": [
    "##共3300个数据，1451个谣言\n",
    "def read_data(path):\n",
    "    global corpus\n",
    "    global gender\n",
    "    global followers\n",
    "    global friends\n",
    "    global verified\n",
    "    global description\n",
    "    global has_url\n",
    "    global category\n",
    "    path_list = os.listdir(path)\n",
    "    for filename in path_list:\n",
    "        if os.path.splitext(filename)[1] == '.json':\n",
    "            with open(path + \"\\\\\" + filename, encoding='utf-8') as fp:\n",
    "                data = json.load(fp)\n",
    "                if(data['user'] == 'empty'):\n",
    "                    continue\n",
    "                corpus.append(re.sub(r'[^\\u4E00-\\u9FA5?？!！]',\"\",data['text']))\n",
    "                description.append(data['user']['description'])\n",
    "                gender.append(data['user']['gender'])\n",
    "                followers.append(data['user']['followers'])\n",
    "                friends.append(data['user']['friends'])\n",
    "                has_url.append(data['has_url'])\n",
    "                verified.append(data['user']['verified'])\n",
    "                if(int(re.match(\"\\d+\",filename).group()) <= 2600):\n",
    "                    category.append(1)\n",
    "                if(int(re.match(\"\\d+\",filename).group()) > 2600):\n",
    "                    category.append(0)\n",
    "\n",
    "    has_url = np.array(has_url).astype(int)\n",
    "    verified = np.array(verified).astype(int)\n",
    "    description = np.array(description).astype(int)\n",
    "    gender = np.array(list(map(trans_gender, gender)))\n",
    "    followers = np.array(followers)\n",
    "    friends = np.array(friends)\n",
    "    category = np.array(category)"
   ]
  },
  {
   "cell_type": "code",
   "execution_count": 6,
   "metadata": {
    "pycharm": {
     "is_executing": false
    }
   },
   "outputs": [],
   "source": [
    "def trans_gender(gender):\n",
    "    if(gender == \"m\"):\n",
    "        return 1\n",
    "    else:\n",
    "        return 0\n",
    "##统计感叹号与问号的个数\n",
    "def count_punction():\n",
    "    global exclamation_mark\n",
    "    global question_mark\n",
    "    exclamation_mark = np.array([i.count('！') + i.count('!') for i in corpus])\n",
    "    question_mark = np.array([i.count('？') + i.count('?') for i in corpus])"
   ]
  },
  {
   "cell_type": "code",
   "execution_count": 7,
   "metadata": {
    "pycharm": {
     "is_executing": false
    }
   },
   "outputs": [],
   "source": [
    "##acquire text features\n",
    "##处理原始微博的褒贬属性(统计褒贬词的个数[根据词的情感态度]，分析一条微博的积极性，算法为——\n",
    "##将一条微博的前top_word个关键词找出，其排序的方式为TF-IDF，TF-IDF对应的总语料库为jieba分词总语料库\n",
    "##将这些词(情感系数-0.5)关于其重要性加权平均得到这条微博的积极性)\n",
    "def handle_corpus():\n",
    "    global positive_rate\n",
    "    global postive_words\n",
    "    global negative_words\n",
    "    global corpus\n",
    "    for sent in corpus:\n",
    "        postive_num = 0\n",
    "        negative_num = 0\n",
    "        rate = 0\n",
    "        for x, w in jieba.analyse.textrank(sent, topK=top_word, withWeight=True,allowPOS=allowpos):\n",
    "            rate += (SnowNLP(x).sentiments - 0.5) * w\n",
    "            if (SnowNLP(x).sentiments < 0.4):\n",
    "                negative_num += 1\n",
    "            if (SnowNLP(x).sentiments > 0.6):\n",
    "                postive_num += 1\n",
    "        ##加上最后一个0.000000001是因为有的微博没有关键词，所以为了防止分母为0加上一个微小数\n",
    "        rate = rate/(len(jieba.analyse.textrank(sent, topK=top_word, withWeight=True, allowPOS=allowpos))+0.000000001)\n",
    "        postive_words.append(postive_num)\n",
    "        negative_words.append(negative_num)\n",
    "        positive_rate.append(rate)\n",
    "    postive_words = np.array(postive_words)\n",
    "    negative_words = np.array(negative_words)\n",
    "    positive_rate = np.array(positive_rate)"
   ]
  },
  {
   "cell_type": "code",
   "execution_count": 8,
   "metadata": {
    "pycharm": {
     "is_executing": false
    }
   },
   "outputs": [
    {
     "name": "stderr",
     "text": [
      "Building prefix dict from the default dictionary ...\n",
      "Loading model from cache C:\\Users\\Lenovo\\AppData\\Local\\Temp\\jieba.cache\n",
      "Loading model cost 1.258 seconds.\n",
      "Prefix dict has been built succesfully.\n"
     ],
     "output_type": "stream"
    }
   ],
   "source": [
    "##read json document and acquire corpus\n",
    "df = read_data(data_place)\n",
    "## Given a corpus:\n",
    "count_punction()\n",
    "handle_corpus()"
   ]
  },
  {
   "cell_type": "code",
   "execution_count": 9,
   "metadata": {
    "pycharm": {
     "is_executing": false
    }
   },
   "outputs": [
    {
     "name": "stdout",
     "text": [
      " For friends, max is: 5000  min is: 0  mean is: 920.7363636363636 median is: 626.0\n",
      " For ! , max is: 17  min is: 0  mean is: 0.9263636363636364 median is: 0.0\n",
      " For ? , max is: 9  min is: 0  mean is: 0.2787878787878788 median is: 0.0\n",
      " For positive rate, max is: 0.368421052263158  min is: -0.2859330339355865  mean is: 0.03880970856454348 median is: 0.034656072931484226\n",
      " For positive words, max is: 16  min is: 0  mean is: 5.553333333333334 median is: 6.0\n",
      " For negative words, max is: 10  min is: 0  mean is: 2.6054545454545455 median is: 2.0\n"
     ],
     "output_type": "stream"
    }
   ],
   "source": [
    "##Take a look at the data:\n",
    "print(' For friends, max is:',friends.max(),' min is:',friends.min(),' mean is:',friends.mean(),'median is:',np.median(friends))\n",
    "print(' For ! , max is:',exclamation_mark.max(),' min is:',exclamation_mark.min(),' mean is:',exclamation_mark.mean(),'median is:',np.median(exclamation_mark))\n",
    "print(' For ? , max is:',question_mark.max(),' min is:',question_mark.min(),' mean is:',question_mark.mean(),'median is:',np.median(question_mark))\n",
    "print(' For positive rate, max is:',positive_rate.max(),' min is:',positive_rate.min(),' mean is:',positive_rate.mean(),'median is:',np.median(positive_rate))\n",
    "print(' For positive words, max is:',postive_words.max(),' min is:',postive_words.min(),' mean is:',postive_words.mean(),'median is:',np.median(postive_words))\n",
    "print(' For negative words, max is:',negative_words.max(),' min is:',negative_words.min(),' mean is:',negative_words.mean(),'median is:',np.median(negative_words))\n"
   ]
  },
  {
   "cell_type": "code",
   "execution_count": 10,
   "metadata": {
    "pycharm": {
     "is_executing": false
    }
   },
   "outputs": [
    {
     "name": "stdout",
     "text": [
      " For has_url, number of 1 is: 635 number of 0 is: 2665\n",
      " For description, number of 1 is: 3139 number of 0 is: 161\n",
      " For gender, number of 1 is: 2053 number of 0 is: 1247\n",
      " For verified, number of 1 is: 1926 number of 0 is: 1374\n",
      " For labels, number of 1 is: 1451 number of 0 is: 1849\n"
     ],
     "output_type": "stream"
    }
   ],
   "source": [
    "print(' For has_url, number of 1 is:',np.count_nonzero(has_url),'number of 0 is:',len(has_url)-np.count_nonzero(has_url))\n",
    "print(' For description, number of 1 is:',np.count_nonzero(description),'number of 0 is:',len(description)-np.count_nonzero(description))\n",
    "print(' For gender, number of 1 is:',np.count_nonzero(gender),'number of 0 is:',len(gender)-np.count_nonzero(gender))\n",
    "print(' For verified, number of 1 is:',np.count_nonzero(verified),'number of 0 is:',len(verified)-np.count_nonzero(verified))\n",
    "print(' For labels, number of 1 is:',np.count_nonzero(category),'number of 0 is:',len(category)-np.count_nonzero(category))\n"
   ]
  },
  {
   "cell_type": "code",
   "execution_count": 11,
   "metadata": {
    "pycharm": {
     "is_executing": false
    }
   },
   "outputs": [],
   "source": [
    "##regulation:\n",
    "rexclamation = exclamation_mark/(exclamation_mark.max()-exclamation_mark.min())\n",
    "rquestion = question_mark/(question_mark.max()-question_mark.min())\n",
    "rfriend = friends/(friends.max()-friends.min())\n",
    "rfollowers = followers/(followers.max()-followers.min())\n",
    "rpositive_words = postive_words/(postive_words.max()-postive_words.min())\n",
    "rnegative_words = negative_words/(negative_words.max()-negative_words.min())\n",
    "rpositive_rate = positive_rate/(positive_rate.max()-positive_rate.min())\n"
   ]
  },
  {
   "cell_type": "code",
   "execution_count": 12,
   "metadata": {
    "pycharm": {
     "is_executing": false
    }
   },
   "outputs": [],
   "source": [
    "##X2 = np.array(has_url,description,gender,verified)\n",
    "X1 = []\n",
    "X1.append(rexclamation.tolist())\n",
    "X1.append(rquestion.tolist())\n",
    "X1.append(rfriend.tolist())\n",
    "X1.append(rfollowers.tolist())\n",
    "X1.append(rpositive_words.tolist())\n",
    "X1.append(rnegative_words.tolist())\n",
    "X1.append(rpositive_rate.tolist())\n",
    "X1.append(has_url.tolist())\n",
    "X1.append(description.tolist())\n",
    "X1.append(gender.tolist())\n",
    "X1.append(verified.tolist())\n",
    "Y = category\n",
    "X1 = np.array(X1)"
   ]
  },
  {
   "cell_type": "code",
   "execution_count": 13,
   "metadata": {
    "pycharm": {
     "is_executing": false
    }
   },
   "outputs": [
    {
     "data": {
      "text/plain": "array([[0.05882353, 0.        , 0.1814    , ..., 1.        , 0.        ,\n        0.        ],\n       [0.05882353, 0.11111111, 0.3846    , ..., 0.        , 1.        ,\n        0.        ],\n       [0.        , 0.11111111, 0.0164    , ..., 1.        , 1.        ,\n        0.        ],\n       ...,\n       [0.        , 0.        , 0.064     , ..., 1.        , 0.        ,\n        0.        ],\n       [0.05882353, 0.        , 0.496     , ..., 1.        , 0.        ,\n        0.        ],\n       [0.05882353, 0.        , 0.3124    , ..., 1.        , 1.        ,\n        0.        ]])"
     },
     "metadata": {},
     "output_type": "execute_result",
     "execution_count": 13
    }
   ],
   "source": [
    "conX=X1.T\n",
    "conX"
   ]
  },
  {
   "cell_type": "code",
   "execution_count": 14,
   "metadata": {
    "pycharm": {
     "is_executing": false
    }
   },
   "outputs": [],
   "source": [
    "from sklearn.model_selection import train_test_split\n",
    "from sklearn import metrics\n",
    "X_train, X_test, Y_train, Y_test = train_test_split(conX, Y, test_size=0.3, random_state=88, stratify=Y)"
   ]
  },
  {
   "cell_type": "code",
   "execution_count": 15,
   "metadata": {
    "pycharm": {
     "is_executing": false
    }
   },
   "outputs": [
    {
     "data": {
      "text/plain": "array([[0.11764706, 0.22222222, 0.4898    , ..., 1.        , 1.        ,\n        1.        ],\n       [0.47058824, 0.        , 0.4038    , ..., 1.        , 1.        ,\n        1.        ],\n       [0.05882353, 0.11111111, 0.3874    , ..., 1.        , 0.        ,\n        0.        ],\n       ...,\n       [0.        , 0.        , 0.3954    , ..., 0.        , 1.        ,\n        1.        ],\n       [0.        , 0.        , 0.131     , ..., 1.        , 0.        ,\n        0.        ],\n       [0.05882353, 0.        , 0.2464    , ..., 1.        , 0.        ,\n        0.        ]])"
     },
     "metadata": {},
     "output_type": "execute_result",
     "execution_count": 15
    }
   ],
   "source": [
    "X_train"
   ]
  },
  {
   "cell_type": "code",
   "execution_count": 16,
   "metadata": {
    "pycharm": {
     "is_executing": false
    }
   },
   "outputs": [
    {
     "name": "stdout",
     "text": [
      "The accuracy of the KNN is 0.7131313131313132\n"
     ],
     "output_type": "stream"
    }
   ],
   "source": [
    "from sklearn.neighbors import KNeighborsClassifier\n",
    "\n",
    "knn = KNeighborsClassifier(n_neighbors=50)\n",
    "\n",
    "# change the shape of Y_train to (n_samples, ) using `.ravel()`\n",
    "knn.fit(X_train, Y_train.ravel())\n",
    "\n",
    "knn_pred = knn.predict(X_test)\n",
    "\n",
    "print('The accuracy of the KNN is', metrics.accuracy_score(knn_pred, Y_test))"
   ]
  },
  {
   "cell_type": "code",
   "execution_count": 17,
   "metadata": {
    "pycharm": {
     "is_executing": false
    }
   },
   "outputs": [
    {
     "name": "stdout",
     "text": [
      "The accuracy of the Logistic Regression is 0.7686868686868686\n"
     ],
     "output_type": "stream"
    }
   ],
   "source": [
    "from sklearn.linear_model import LogisticRegression\n",
    "\n",
    "clf = LogisticRegression(penalty='l1',max_iter=800,fit_intercept=False,solver='saga',C=20)\n",
    "clf.fit(X_train, Y_train.ravel())\n",
    "clf_pred = clf.predict(X_test)\n",
    "print('The accuracy of the Logistic Regression is', metrics.accuracy_score(clf_pred, Y_test))"
   ]
  },
  {
   "cell_type": "code",
   "execution_count": 18,
   "metadata": {
    "pycharm": {
     "is_executing": false
    }
   },
   "outputs": [
    {
     "name": "stdout",
     "text": [
      "The accuracy of the Decision Tree is 0.7454545454545455\n"
     ],
     "output_type": "stream"
    }
   ],
   "source": [
    "from sklearn import tree\n",
    "\n",
    "dtree = tree.DecisionTreeClassifier(max_leaf_nodes=15, max_depth=30)\n",
    "dtree = dtree.fit(X_train, Y_train.ravel())\n",
    "dtree_pred = dtree.predict(X_test)\n",
    "print('The accuracy of the Decision Tree is', metrics.accuracy_score(dtree_pred, Y_test))"
   ]
  },
  {
   "cell_type": "code",
   "execution_count": 19,
   "outputs": [
    {
     "data": {
      "text/plain": "<graphviz.files.Source at 0x29e215fe348>",
      "image/svg+xml": "<?xml version=\"1.0\" encoding=\"UTF-8\" standalone=\"no\"?>\r\n<!DOCTYPE svg PUBLIC \"-//W3C//DTD SVG 1.1//EN\"\r\n \"http://www.w3.org/Graphics/SVG/1.1/DTD/svg11.dtd\">\r\n<!-- Generated by graphviz version 2.38.0 (20140413.2041)\r\n -->\r\n<!-- Title: Tree Pages: 1 -->\r\n<svg width=\"1249pt\" height=\"790pt\"\r\n viewBox=\"0.00 0.00 1248.50 790.00\" xmlns=\"http://www.w3.org/2000/svg\" xmlns:xlink=\"http://www.w3.org/1999/xlink\">\r\n<g id=\"graph0\" class=\"graph\" transform=\"scale(1 1) rotate(0) translate(4 786)\">\r\n<title>Tree</title>\r\n<polygon fill=\"white\" stroke=\"none\" points=\"-4,4 -4,-786 1244.5,-786 1244.5,4 -4,4\"/>\r\n<!-- 0 -->\r\n<g id=\"node1\" class=\"node\"><title>0</title>\r\n<path fill=\"#f9e4d4\" stroke=\"black\" d=\"M979,-782C979,-782 857,-782 857,-782 851,-782 845,-776 845,-770 845,-770 845,-711 845,-711 845,-705 851,-699 857,-699 857,-699 979,-699 979,-699 985,-699 991,-705 991,-711 991,-711 991,-770 991,-770 991,-776 985,-782 979,-782\"/>\r\n<text text-anchor=\"start\" x=\"863.5\" y=\"-766.8\" font-family=\"Helvetica,sans-Serif\" font-size=\"14.00\">followers ≤ 0.013</text>\r\n<text text-anchor=\"start\" x=\"880.5\" y=\"-751.8\" font-family=\"Helvetica,sans-Serif\" font-size=\"14.00\">gini = 0.493</text>\r\n<text text-anchor=\"start\" x=\"866.5\" y=\"-736.8\" font-family=\"Helvetica,sans-Serif\" font-size=\"14.00\">samples = 2310</text>\r\n<text text-anchor=\"start\" x=\"853\" y=\"-721.8\" font-family=\"Helvetica,sans-Serif\" font-size=\"14.00\">value = [1294, 1016]</text>\r\n<text text-anchor=\"start\" x=\"875\" y=\"-706.8\" font-family=\"Helvetica,sans-Serif\" font-size=\"14.00\">class = rumor</text>\r\n</g>\r\n<!-- 1 -->\r\n<g id=\"node2\" class=\"node\"><title>1</title>\r\n<path fill=\"#add6f4\" stroke=\"black\" d=\"M903.5,-663C903.5,-663 778.5,-663 778.5,-663 772.5,-663 766.5,-657 766.5,-651 766.5,-651 766.5,-592 766.5,-592 766.5,-586 772.5,-580 778.5,-580 778.5,-580 903.5,-580 903.5,-580 909.5,-580 915.5,-586 915.5,-592 915.5,-592 915.5,-651 915.5,-651 915.5,-657 909.5,-663 903.5,-663\"/>\r\n<text text-anchor=\"start\" x=\"774.5\" y=\"-647.8\" font-family=\"Helvetica,sans-Serif\" font-size=\"14.00\">positive_rate ≤ 0.066</text>\r\n<text text-anchor=\"start\" x=\"803.5\" y=\"-632.8\" font-family=\"Helvetica,sans-Serif\" font-size=\"14.00\">gini = 0.466</text>\r\n<text text-anchor=\"start\" x=\"789.5\" y=\"-617.8\" font-family=\"Helvetica,sans-Serif\" font-size=\"14.00\">samples = 1459</text>\r\n<text text-anchor=\"start\" x=\"784\" y=\"-602.8\" font-family=\"Helvetica,sans-Serif\" font-size=\"14.00\">value = [538, 921]</text>\r\n<text text-anchor=\"start\" x=\"784\" y=\"-587.8\" font-family=\"Helvetica,sans-Serif\" font-size=\"14.00\">class = non&#45;rumor</text>\r\n</g>\r\n<!-- 0&#45;&gt;1 -->\r\n<g id=\"edge1\" class=\"edge\"><title>0&#45;&gt;1</title>\r\n<path fill=\"none\" stroke=\"black\" d=\"M891.285,-698.907C885.492,-690.105 879.305,-680.703 873.322,-671.612\"/>\r\n<polygon fill=\"black\" stroke=\"black\" points=\"876.089,-669.45 867.668,-663.021 870.241,-673.298 876.089,-669.45\"/>\r\n<text text-anchor=\"middle\" x=\"862.619\" y=\"-683.806\" font-family=\"Helvetica,sans-Serif\" font-size=\"14.00\">True</text>\r\n</g>\r\n<!-- 2 -->\r\n<g id=\"node27\" class=\"node\"><title>2</title>\r\n<path fill=\"#e89152\" stroke=\"black\" d=\"M1046.5,-663C1046.5,-663 945.5,-663 945.5,-663 939.5,-663 933.5,-657 933.5,-651 933.5,-651 933.5,-592 933.5,-592 933.5,-586 939.5,-580 945.5,-580 945.5,-580 1046.5,-580 1046.5,-580 1052.5,-580 1058.5,-586 1058.5,-592 1058.5,-592 1058.5,-651 1058.5,-651 1058.5,-657 1052.5,-663 1046.5,-663\"/>\r\n<text text-anchor=\"start\" x=\"941.5\" y=\"-647.8\" font-family=\"Helvetica,sans-Serif\" font-size=\"14.00\">followers ≤ 0.032</text>\r\n<text text-anchor=\"start\" x=\"958.5\" y=\"-632.8\" font-family=\"Helvetica,sans-Serif\" font-size=\"14.00\">gini = 0.198</text>\r\n<text text-anchor=\"start\" x=\"948.5\" y=\"-617.8\" font-family=\"Helvetica,sans-Serif\" font-size=\"14.00\">samples = 851</text>\r\n<text text-anchor=\"start\" x=\"943\" y=\"-602.8\" font-family=\"Helvetica,sans-Serif\" font-size=\"14.00\">value = [756, 95]</text>\r\n<text text-anchor=\"start\" x=\"953\" y=\"-587.8\" font-family=\"Helvetica,sans-Serif\" font-size=\"14.00\">class = rumor</text>\r\n</g>\r\n<!-- 0&#45;&gt;2 -->\r\n<g id=\"edge26\" class=\"edge\"><title>0&#45;&gt;2</title>\r\n<path fill=\"none\" stroke=\"black\" d=\"M945.062,-698.907C950.93,-690.105 957.198,-680.703 963.259,-671.612\"/>\r\n<polygon fill=\"black\" stroke=\"black\" points=\"966.351,-673.283 968.986,-663.021 960.527,-669.4 966.351,-673.283\"/>\r\n<text text-anchor=\"middle\" x=\"973.889\" y=\"-683.835\" font-family=\"Helvetica,sans-Serif\" font-size=\"14.00\">False</text>\r\n</g>\r\n<!-- 3 -->\r\n<g id=\"node3\" class=\"node\"><title>3</title>\r\n<path fill=\"#85c3ef\" stroke=\"black\" d=\"M642,-544C642,-544 484,-544 484,-544 478,-544 472,-538 472,-532 472,-532 472,-473 472,-473 472,-467 478,-461 484,-461 484,-461 642,-461 642,-461 648,-461 654,-467 654,-473 654,-473 654,-532 654,-532 654,-538 648,-544 642,-544\"/>\r\n<text text-anchor=\"start\" x=\"480\" y=\"-528.8\" font-family=\"Helvetica,sans-Serif\" font-size=\"14.00\">exclamation_mark ≤ 0.029</text>\r\n<text text-anchor=\"start\" x=\"525.5\" y=\"-513.8\" font-family=\"Helvetica,sans-Serif\" font-size=\"14.00\">gini = 0.402</text>\r\n<text text-anchor=\"start\" x=\"515.5\" y=\"-498.8\" font-family=\"Helvetica,sans-Serif\" font-size=\"14.00\">samples = 906</text>\r\n<text text-anchor=\"start\" x=\"506\" y=\"-483.8\" font-family=\"Helvetica,sans-Serif\" font-size=\"14.00\">value = [252, 654]</text>\r\n<text text-anchor=\"start\" x=\"506\" y=\"-468.8\" font-family=\"Helvetica,sans-Serif\" font-size=\"14.00\">class = non&#45;rumor</text>\r\n</g>\r\n<!-- 1&#45;&gt;3 -->\r\n<g id=\"edge2\" class=\"edge\"><title>1&#45;&gt;3</title>\r\n<path fill=\"none\" stroke=\"black\" d=\"M766.135,-588.992C734.604,-575.722 697.433,-560.078 663.566,-545.825\"/>\r\n<polygon fill=\"black\" stroke=\"black\" points=\"664.684,-542.498 654.109,-541.845 661.968,-548.95 664.684,-542.498\"/>\r\n</g>\r\n<!-- 4 -->\r\n<g id=\"node16\" class=\"node\"><title>4</title>\r\n<path fill=\"#fdf7f2\" stroke=\"black\" d=\"M897,-544C897,-544 791,-544 791,-544 785,-544 779,-538 779,-532 779,-532 779,-473 779,-473 779,-467 785,-461 791,-461 791,-461 897,-461 897,-461 903,-461 909,-467 909,-473 909,-473 909,-532 909,-532 909,-538 903,-544 897,-544\"/>\r\n<text text-anchor=\"start\" x=\"803\" y=\"-528.8\" font-family=\"Helvetica,sans-Serif\" font-size=\"14.00\">has_url ≤ 0.5</text>\r\n<text text-anchor=\"start\" x=\"806.5\" y=\"-513.8\" font-family=\"Helvetica,sans-Serif\" font-size=\"14.00\">gini = 0.499</text>\r\n<text text-anchor=\"start\" x=\"796.5\" y=\"-498.8\" font-family=\"Helvetica,sans-Serif\" font-size=\"14.00\">samples = 553</text>\r\n<text text-anchor=\"start\" x=\"787\" y=\"-483.8\" font-family=\"Helvetica,sans-Serif\" font-size=\"14.00\">value = [286, 267]</text>\r\n<text text-anchor=\"start\" x=\"801\" y=\"-468.8\" font-family=\"Helvetica,sans-Serif\" font-size=\"14.00\">class = rumor</text>\r\n</g>\r\n<!-- 1&#45;&gt;4 -->\r\n<g id=\"edge15\" class=\"edge\"><title>1&#45;&gt;4</title>\r\n<path fill=\"none\" stroke=\"black\" d=\"M842.041,-579.907C842.255,-571.558 842.483,-562.671 842.705,-554.02\"/>\r\n<polygon fill=\"black\" stroke=\"black\" points=\"846.203,-554.107 842.961,-544.021 839.206,-553.928 846.203,-554.107\"/>\r\n</g>\r\n<!-- 5 -->\r\n<g id=\"node4\" class=\"node\"><title>5</title>\r\n<path fill=\"#b1d8f5\" stroke=\"black\" d=\"M398,-425C398,-425 292,-425 292,-425 286,-425 280,-419 280,-413 280,-413 280,-354 280,-354 280,-348 286,-342 292,-342 292,-342 398,-342 398,-342 404,-342 410,-348 410,-354 410,-354 410,-413 410,-413 410,-419 404,-425 398,-425\"/>\r\n<text text-anchor=\"start\" x=\"297\" y=\"-409.8\" font-family=\"Helvetica,sans-Serif\" font-size=\"14.00\">friends ≤ 0.073</text>\r\n<text text-anchor=\"start\" x=\"311.5\" y=\"-394.8\" font-family=\"Helvetica,sans-Serif\" font-size=\"14.00\">gini = 0.47</text>\r\n<text text-anchor=\"start\" x=\"297.5\" y=\"-379.8\" font-family=\"Helvetica,sans-Serif\" font-size=\"14.00\">samples = 482</text>\r\n<text text-anchor=\"start\" x=\"288\" y=\"-364.8\" font-family=\"Helvetica,sans-Serif\" font-size=\"14.00\">value = [182, 300]</text>\r\n<text text-anchor=\"start\" x=\"288\" y=\"-349.8\" font-family=\"Helvetica,sans-Serif\" font-size=\"14.00\">class = non&#45;rumor</text>\r\n</g>\r\n<!-- 3&#45;&gt;5 -->\r\n<g id=\"edge3\" class=\"edge\"><title>3&#45;&gt;5</title>\r\n<path fill=\"none\" stroke=\"black\" d=\"M487.366,-460.907C465.317,-449.074 441.252,-436.158 419.287,-424.369\"/>\r\n<polygon fill=\"black\" stroke=\"black\" points=\"420.804,-421.212 410.338,-419.567 417.494,-427.38 420.804,-421.212\"/>\r\n</g>\r\n<!-- 6 -->\r\n<g id=\"node13\" class=\"node\"><title>6</title>\r\n<path fill=\"#60b0ea\" stroke=\"black\" d=\"M616,-425C616,-425 510,-425 510,-425 504,-425 498,-419 498,-413 498,-413 498,-354 498,-354 498,-348 504,-342 510,-342 510,-342 616,-342 616,-342 622,-342 628,-348 628,-354 628,-354 628,-413 628,-413 628,-419 622,-425 616,-425\"/>\r\n<text text-anchor=\"start\" x=\"508.5\" y=\"-409.8\" font-family=\"Helvetica,sans-Serif\" font-size=\"14.00\">followers ≤ 0.008</text>\r\n<text text-anchor=\"start\" x=\"525.5\" y=\"-394.8\" font-family=\"Helvetica,sans-Serif\" font-size=\"14.00\">gini = 0.276</text>\r\n<text text-anchor=\"start\" x=\"515.5\" y=\"-379.8\" font-family=\"Helvetica,sans-Serif\" font-size=\"14.00\">samples = 424</text>\r\n<text text-anchor=\"start\" x=\"510\" y=\"-364.8\" font-family=\"Helvetica,sans-Serif\" font-size=\"14.00\">value = [70, 354]</text>\r\n<text text-anchor=\"start\" x=\"506\" y=\"-349.8\" font-family=\"Helvetica,sans-Serif\" font-size=\"14.00\">class = non&#45;rumor</text>\r\n</g>\r\n<!-- 3&#45;&gt;6 -->\r\n<g id=\"edge12\" class=\"edge\"><title>3&#45;&gt;6</title>\r\n<path fill=\"none\" stroke=\"black\" d=\"M563,-460.907C563,-452.649 563,-443.864 563,-435.302\"/>\r\n<polygon fill=\"black\" stroke=\"black\" points=\"566.5,-435.021 563,-425.021 559.5,-435.021 566.5,-435.021\"/>\r\n</g>\r\n<!-- 7 -->\r\n<g id=\"node5\" class=\"node\"><title>7</title>\r\n<path fill=\"#fbece0\" stroke=\"black\" d=\"M249.5,-306C249.5,-306 160.5,-306 160.5,-306 154.5,-306 148.5,-300 148.5,-294 148.5,-294 148.5,-235 148.5,-235 148.5,-229 154.5,-223 160.5,-223 160.5,-223 249.5,-223 249.5,-223 255.5,-223 261.5,-229 261.5,-235 261.5,-235 261.5,-294 261.5,-294 261.5,-300 255.5,-306 249.5,-306\"/>\r\n<text text-anchor=\"start\" x=\"158.5\" y=\"-290.8\" font-family=\"Helvetica,sans-Serif\" font-size=\"14.00\">followers ≤ 0.0</text>\r\n<text text-anchor=\"start\" x=\"167.5\" y=\"-275.8\" font-family=\"Helvetica,sans-Serif\" font-size=\"14.00\">gini = 0.496</text>\r\n<text text-anchor=\"start\" x=\"157.5\" y=\"-260.8\" font-family=\"Helvetica,sans-Serif\" font-size=\"14.00\">samples = 179</text>\r\n<text text-anchor=\"start\" x=\"156.5\" y=\"-245.8\" font-family=\"Helvetica,sans-Serif\" font-size=\"14.00\">value = [97, 82]</text>\r\n<text text-anchor=\"start\" x=\"162\" y=\"-230.8\" font-family=\"Helvetica,sans-Serif\" font-size=\"14.00\">class = rumor</text>\r\n</g>\r\n<!-- 5&#45;&gt;7 -->\r\n<g id=\"edge4\" class=\"edge\"><title>5&#45;&gt;7</title>\r\n<path fill=\"none\" stroke=\"black\" d=\"M296.428,-341.907C285.134,-332.469 273.017,-322.343 261.418,-312.649\"/>\r\n<polygon fill=\"black\" stroke=\"black\" points=\"263.404,-309.748 253.486,-306.021 258.915,-315.119 263.404,-309.748\"/>\r\n</g>\r\n<!-- 8 -->\r\n<g id=\"node8\" class=\"node\"><title>8</title>\r\n<path fill=\"#86c3ef\" stroke=\"black\" d=\"M398,-306C398,-306 292,-306 292,-306 286,-306 280,-300 280,-294 280,-294 280,-235 280,-235 280,-229 286,-223 292,-223 292,-223 398,-223 398,-223 404,-223 410,-229 410,-235 410,-235 410,-294 410,-294 410,-300 404,-306 398,-306\"/>\r\n<text text-anchor=\"start\" x=\"290.5\" y=\"-290.8\" font-family=\"Helvetica,sans-Serif\" font-size=\"14.00\">followers ≤ 0.003</text>\r\n<text text-anchor=\"start\" x=\"307.5\" y=\"-275.8\" font-family=\"Helvetica,sans-Serif\" font-size=\"14.00\">gini = 0.404</text>\r\n<text text-anchor=\"start\" x=\"297.5\" y=\"-260.8\" font-family=\"Helvetica,sans-Serif\" font-size=\"14.00\">samples = 303</text>\r\n<text text-anchor=\"start\" x=\"292\" y=\"-245.8\" font-family=\"Helvetica,sans-Serif\" font-size=\"14.00\">value = [85, 218]</text>\r\n<text text-anchor=\"start\" x=\"288\" y=\"-230.8\" font-family=\"Helvetica,sans-Serif\" font-size=\"14.00\">class = non&#45;rumor</text>\r\n</g>\r\n<!-- 5&#45;&gt;8 -->\r\n<g id=\"edge7\" class=\"edge\"><title>5&#45;&gt;8</title>\r\n<path fill=\"none\" stroke=\"black\" d=\"M345,-341.907C345,-333.649 345,-324.864 345,-316.302\"/>\r\n<polygon fill=\"black\" stroke=\"black\" points=\"348.5,-316.021 345,-306.021 341.5,-316.021 348.5,-316.021\"/>\r\n</g>\r\n<!-- 15 -->\r\n<g id=\"node6\" class=\"node\"><title>15</title>\r\n<path fill=\"#81c1ee\" stroke=\"black\" d=\"M118,-179.5C118,-179.5 12,-179.5 12,-179.5 6,-179.5 0,-173.5 0,-167.5 0,-167.5 0,-123.5 0,-123.5 0,-117.5 6,-111.5 12,-111.5 12,-111.5 118,-111.5 118,-111.5 124,-111.5 130,-117.5 130,-123.5 130,-123.5 130,-167.5 130,-167.5 130,-173.5 124,-179.5 118,-179.5\"/>\r\n<text text-anchor=\"start\" x=\"27.5\" y=\"-164.3\" font-family=\"Helvetica,sans-Serif\" font-size=\"14.00\">gini = 0.391</text>\r\n<text text-anchor=\"start\" x=\"21.5\" y=\"-149.3\" font-family=\"Helvetica,sans-Serif\" font-size=\"14.00\">samples = 45</text>\r\n<text text-anchor=\"start\" x=\"16.5\" y=\"-134.3\" font-family=\"Helvetica,sans-Serif\" font-size=\"14.00\">value = [12, 33]</text>\r\n<text text-anchor=\"start\" x=\"8\" y=\"-119.3\" font-family=\"Helvetica,sans-Serif\" font-size=\"14.00\">class = non&#45;rumor</text>\r\n</g>\r\n<!-- 7&#45;&gt;15 -->\r\n<g id=\"edge5\" class=\"edge\"><title>7&#45;&gt;15</title>\r\n<path fill=\"none\" stroke=\"black\" d=\"M156.428,-222.907C142.168,-210.99 126.595,-197.976 112.408,-186.12\"/>\r\n<polygon fill=\"black\" stroke=\"black\" points=\"114.605,-183.394 104.687,-179.667 110.116,-188.765 114.605,-183.394\"/>\r\n</g>\r\n<!-- 16 -->\r\n<g id=\"node7\" class=\"node\"><title>16</title>\r\n<path fill=\"#f4caab\" stroke=\"black\" d=\"M249.5,-179.5C249.5,-179.5 160.5,-179.5 160.5,-179.5 154.5,-179.5 148.5,-173.5 148.5,-167.5 148.5,-167.5 148.5,-123.5 148.5,-123.5 148.5,-117.5 154.5,-111.5 160.5,-111.5 160.5,-111.5 249.5,-111.5 249.5,-111.5 255.5,-111.5 261.5,-117.5 261.5,-123.5 261.5,-123.5 261.5,-167.5 261.5,-167.5 261.5,-173.5 255.5,-179.5 249.5,-179.5\"/>\r\n<text text-anchor=\"start\" x=\"167.5\" y=\"-164.3\" font-family=\"Helvetica,sans-Serif\" font-size=\"14.00\">gini = 0.464</text>\r\n<text text-anchor=\"start\" x=\"157.5\" y=\"-149.3\" font-family=\"Helvetica,sans-Serif\" font-size=\"14.00\">samples = 134</text>\r\n<text text-anchor=\"start\" x=\"156.5\" y=\"-134.3\" font-family=\"Helvetica,sans-Serif\" font-size=\"14.00\">value = [85, 49]</text>\r\n<text text-anchor=\"start\" x=\"162\" y=\"-119.3\" font-family=\"Helvetica,sans-Serif\" font-size=\"14.00\">class = rumor</text>\r\n</g>\r\n<!-- 7&#45;&gt;16 -->\r\n<g id=\"edge6\" class=\"edge\"><title>7&#45;&gt;16</title>\r\n<path fill=\"none\" stroke=\"black\" d=\"M205,-222.907C205,-212.204 205,-200.615 205,-189.776\"/>\r\n<polygon fill=\"black\" stroke=\"black\" points=\"208.5,-189.667 205,-179.667 201.5,-189.667 208.5,-189.667\"/>\r\n</g>\r\n<!-- 19 -->\r\n<g id=\"node9\" class=\"node\"><title>19</title>\r\n<path fill=\"#73baed\" stroke=\"black\" d=\"M398,-179.5C398,-179.5 292,-179.5 292,-179.5 286,-179.5 280,-173.5 280,-167.5 280,-167.5 280,-123.5 280,-123.5 280,-117.5 286,-111.5 292,-111.5 292,-111.5 398,-111.5 398,-111.5 404,-111.5 410,-117.5 410,-123.5 410,-123.5 410,-167.5 410,-167.5 410,-173.5 404,-179.5 398,-179.5\"/>\r\n<text text-anchor=\"start\" x=\"311.5\" y=\"-164.3\" font-family=\"Helvetica,sans-Serif\" font-size=\"14.00\">gini = 0.35</text>\r\n<text text-anchor=\"start\" x=\"297.5\" y=\"-149.3\" font-family=\"Helvetica,sans-Serif\" font-size=\"14.00\">samples = 243</text>\r\n<text text-anchor=\"start\" x=\"292\" y=\"-134.3\" font-family=\"Helvetica,sans-Serif\" font-size=\"14.00\">value = [55, 188]</text>\r\n<text text-anchor=\"start\" x=\"288\" y=\"-119.3\" font-family=\"Helvetica,sans-Serif\" font-size=\"14.00\">class = non&#45;rumor</text>\r\n</g>\r\n<!-- 8&#45;&gt;19 -->\r\n<g id=\"edge8\" class=\"edge\"><title>8&#45;&gt;19</title>\r\n<path fill=\"none\" stroke=\"black\" d=\"M345,-222.907C345,-212.204 345,-200.615 345,-189.776\"/>\r\n<polygon fill=\"black\" stroke=\"black\" points=\"348.5,-189.667 345,-179.667 341.5,-189.667 348.5,-189.667\"/>\r\n</g>\r\n<!-- 20 -->\r\n<g id=\"node10\" class=\"node\"><title>20</title>\r\n<path fill=\"#ffffff\" stroke=\"black\" d=\"M570,-187C570,-187 440,-187 440,-187 434,-187 428,-181 428,-175 428,-175 428,-116 428,-116 428,-110 434,-104 440,-104 440,-104 570,-104 570,-104 576,-104 582,-110 582,-116 582,-116 582,-175 582,-175 582,-181 576,-187 570,-187\"/>\r\n<text text-anchor=\"start\" x=\"436\" y=\"-171.8\" font-family=\"Helvetica,sans-Serif\" font-size=\"14.00\">positive_rate ≤ &#45;0.003</text>\r\n<text text-anchor=\"start\" x=\"476\" y=\"-156.8\" font-family=\"Helvetica,sans-Serif\" font-size=\"14.00\">gini = 0.5</text>\r\n<text text-anchor=\"start\" x=\"461.5\" y=\"-141.8\" font-family=\"Helvetica,sans-Serif\" font-size=\"14.00\">samples = 60</text>\r\n<text text-anchor=\"start\" x=\"456.5\" y=\"-126.8\" font-family=\"Helvetica,sans-Serif\" font-size=\"14.00\">value = [30, 30]</text>\r\n<text text-anchor=\"start\" x=\"462\" y=\"-111.8\" font-family=\"Helvetica,sans-Serif\" font-size=\"14.00\">class = rumor</text>\r\n</g>\r\n<!-- 8&#45;&gt;20 -->\r\n<g id=\"edge9\" class=\"edge\"><title>8&#45;&gt;20</title>\r\n<path fill=\"none\" stroke=\"black\" d=\"M400.511,-222.907C413.666,-213.288 427.799,-202.953 441.287,-193.09\"/>\r\n<polygon fill=\"black\" stroke=\"black\" points=\"443.581,-195.749 449.587,-187.021 439.449,-190.098 443.581,-195.749\"/>\r\n</g>\r\n<!-- 21 -->\r\n<g id=\"node11\" class=\"node\"><title>21</title>\r\n<path fill=\"#53aae8\" stroke=\"black\" d=\"M506,-68C506,-68 400,-68 400,-68 394,-68 388,-62 388,-56 388,-56 388,-12 388,-12 388,-6 394,-0 400,-0 400,-0 506,-0 506,-0 512,-0 518,-6 518,-12 518,-12 518,-56 518,-56 518,-62 512,-68 506,-68\"/>\r\n<text text-anchor=\"start\" x=\"415.5\" y=\"-52.8\" font-family=\"Helvetica,sans-Serif\" font-size=\"14.00\">gini = 0.208</text>\r\n<text text-anchor=\"start\" x=\"409.5\" y=\"-37.8\" font-family=\"Helvetica,sans-Serif\" font-size=\"14.00\">samples = 17</text>\r\n<text text-anchor=\"start\" x=\"408.5\" y=\"-22.8\" font-family=\"Helvetica,sans-Serif\" font-size=\"14.00\">value = [2, 15]</text>\r\n<text text-anchor=\"start\" x=\"396\" y=\"-7.8\" font-family=\"Helvetica,sans-Serif\" font-size=\"14.00\">class = non&#45;rumor</text>\r\n</g>\r\n<!-- 20&#45;&gt;21 -->\r\n<g id=\"edge10\" class=\"edge\"><title>20&#45;&gt;21</title>\r\n<path fill=\"none\" stroke=\"black\" d=\"M485.637,-103.726C481.566,-95.1527 477.261,-86.0891 473.162,-77.4555\"/>\r\n<polygon fill=\"black\" stroke=\"black\" points=\"476.265,-75.8314 468.814,-68.2996 469.942,-78.8342 476.265,-75.8314\"/>\r\n</g>\r\n<!-- 22 -->\r\n<g id=\"node12\" class=\"node\"><title>22</title>\r\n<path fill=\"#f3c4a3\" stroke=\"black\" d=\"M637.5,-68C637.5,-68 548.5,-68 548.5,-68 542.5,-68 536.5,-62 536.5,-56 536.5,-56 536.5,-12 536.5,-12 536.5,-6 542.5,-0 548.5,-0 548.5,-0 637.5,-0 637.5,-0 643.5,-0 649.5,-6 649.5,-12 649.5,-12 649.5,-56 649.5,-56 649.5,-62 643.5,-68 637.5,-68\"/>\r\n<text text-anchor=\"start\" x=\"555.5\" y=\"-52.8\" font-family=\"Helvetica,sans-Serif\" font-size=\"14.00\">gini = 0.454</text>\r\n<text text-anchor=\"start\" x=\"549.5\" y=\"-37.8\" font-family=\"Helvetica,sans-Serif\" font-size=\"14.00\">samples = 43</text>\r\n<text text-anchor=\"start\" x=\"544.5\" y=\"-22.8\" font-family=\"Helvetica,sans-Serif\" font-size=\"14.00\">value = [28, 15]</text>\r\n<text text-anchor=\"start\" x=\"550\" y=\"-7.8\" font-family=\"Helvetica,sans-Serif\" font-size=\"14.00\">class = rumor</text>\r\n</g>\r\n<!-- 20&#45;&gt;22 -->\r\n<g id=\"edge11\" class=\"edge\"><title>20&#45;&gt;22</title>\r\n<path fill=\"none\" stroke=\"black\" d=\"M537.768,-103.726C544.951,-94.7878 552.563,-85.3168 559.764,-76.3558\"/>\r\n<polygon fill=\"black\" stroke=\"black\" points=\"562.703,-78.2869 566.239,-68.2996 557.246,-73.9019 562.703,-78.2869\"/>\r\n</g>\r\n<!-- 17 -->\r\n<g id=\"node14\" class=\"node\"><title>17</title>\r\n<path fill=\"#59ade9\" stroke=\"black\" d=\"M546,-298.5C546,-298.5 440,-298.5 440,-298.5 434,-298.5 428,-292.5 428,-286.5 428,-286.5 428,-242.5 428,-242.5 428,-236.5 434,-230.5 440,-230.5 440,-230.5 546,-230.5 546,-230.5 552,-230.5 558,-236.5 558,-242.5 558,-242.5 558,-286.5 558,-286.5 558,-292.5 552,-298.5 546,-298.5\"/>\r\n<text text-anchor=\"start\" x=\"459.5\" y=\"-283.3\" font-family=\"Helvetica,sans-Serif\" font-size=\"14.00\">gini = 0.24</text>\r\n<text text-anchor=\"start\" x=\"445.5\" y=\"-268.3\" font-family=\"Helvetica,sans-Serif\" font-size=\"14.00\">samples = 394</text>\r\n<text text-anchor=\"start\" x=\"440\" y=\"-253.3\" font-family=\"Helvetica,sans-Serif\" font-size=\"14.00\">value = [55, 339]</text>\r\n<text text-anchor=\"start\" x=\"436\" y=\"-238.3\" font-family=\"Helvetica,sans-Serif\" font-size=\"14.00\">class = non&#45;rumor</text>\r\n</g>\r\n<!-- 6&#45;&gt;17 -->\r\n<g id=\"edge13\" class=\"edge\"><title>6&#45;&gt;17</title>\r\n<path fill=\"none\" stroke=\"black\" d=\"M538.714,-341.907C532.046,-330.763 524.804,-318.658 518.092,-307.439\"/>\r\n<polygon fill=\"black\" stroke=\"black\" points=\"520.981,-305.451 512.843,-298.667 514.974,-309.045 520.981,-305.451\"/>\r\n</g>\r\n<!-- 18 -->\r\n<g id=\"node15\" class=\"node\"><title>18</title>\r\n<path fill=\"#ffffff\" stroke=\"black\" d=\"M677.5,-298.5C677.5,-298.5 588.5,-298.5 588.5,-298.5 582.5,-298.5 576.5,-292.5 576.5,-286.5 576.5,-286.5 576.5,-242.5 576.5,-242.5 576.5,-236.5 582.5,-230.5 588.5,-230.5 588.5,-230.5 677.5,-230.5 677.5,-230.5 683.5,-230.5 689.5,-236.5 689.5,-242.5 689.5,-242.5 689.5,-286.5 689.5,-286.5 689.5,-292.5 683.5,-298.5 677.5,-298.5\"/>\r\n<text text-anchor=\"start\" x=\"604\" y=\"-283.3\" font-family=\"Helvetica,sans-Serif\" font-size=\"14.00\">gini = 0.5</text>\r\n<text text-anchor=\"start\" x=\"589.5\" y=\"-268.3\" font-family=\"Helvetica,sans-Serif\" font-size=\"14.00\">samples = 30</text>\r\n<text text-anchor=\"start\" x=\"584.5\" y=\"-253.3\" font-family=\"Helvetica,sans-Serif\" font-size=\"14.00\">value = [15, 15]</text>\r\n<text text-anchor=\"start\" x=\"590\" y=\"-238.3\" font-family=\"Helvetica,sans-Serif\" font-size=\"14.00\">class = rumor</text>\r\n</g>\r\n<!-- 6&#45;&gt;18 -->\r\n<g id=\"edge14\" class=\"edge\"><title>6&#45;&gt;18</title>\r\n<path fill=\"none\" stroke=\"black\" d=\"M587.286,-341.907C593.954,-330.763 601.196,-318.658 607.908,-307.439\"/>\r\n<polygon fill=\"black\" stroke=\"black\" points=\"611.026,-309.045 613.157,-298.667 605.019,-305.451 611.026,-309.045\"/>\r\n</g>\r\n<!-- 9 -->\r\n<g id=\"node17\" class=\"node\"><title>9</title>\r\n<path fill=\"#e2f1fb\" stroke=\"black\" d=\"M897,-425C897,-425 791,-425 791,-425 785,-425 779,-419 779,-413 779,-413 779,-354 779,-354 779,-348 785,-342 791,-342 791,-342 897,-342 897,-342 903,-342 909,-348 909,-354 909,-354 909,-413 909,-413 909,-419 903,-425 897,-425\"/>\r\n<text text-anchor=\"start\" x=\"804.5\" y=\"-409.8\" font-family=\"Helvetica,sans-Serif\" font-size=\"14.00\">friends ≤ 0.2</text>\r\n<text text-anchor=\"start\" x=\"806.5\" y=\"-394.8\" font-family=\"Helvetica,sans-Serif\" font-size=\"14.00\">gini = 0.497</text>\r\n<text text-anchor=\"start\" x=\"796.5\" y=\"-379.8\" font-family=\"Helvetica,sans-Serif\" font-size=\"14.00\">samples = 447</text>\r\n<text text-anchor=\"start\" x=\"787\" y=\"-364.8\" font-family=\"Helvetica,sans-Serif\" font-size=\"14.00\">value = [206, 241]</text>\r\n<text text-anchor=\"start\" x=\"787\" y=\"-349.8\" font-family=\"Helvetica,sans-Serif\" font-size=\"14.00\">class = non&#45;rumor</text>\r\n</g>\r\n<!-- 4&#45;&gt;9 -->\r\n<g id=\"edge16\" class=\"edge\"><title>4&#45;&gt;9</title>\r\n<path fill=\"none\" stroke=\"black\" d=\"M844,-460.907C844,-452.649 844,-443.864 844,-435.302\"/>\r\n<polygon fill=\"black\" stroke=\"black\" points=\"847.5,-435.021 844,-425.021 840.5,-435.021 847.5,-435.021\"/>\r\n</g>\r\n<!-- 10 -->\r\n<g id=\"node24\" class=\"node\"><title>10</title>\r\n<path fill=\"#edaa79\" stroke=\"black\" d=\"M1111.5,-425C1111.5,-425 1010.5,-425 1010.5,-425 1004.5,-425 998.5,-419 998.5,-413 998.5,-413 998.5,-354 998.5,-354 998.5,-348 1004.5,-342 1010.5,-342 1010.5,-342 1111.5,-342 1111.5,-342 1117.5,-342 1123.5,-348 1123.5,-354 1123.5,-354 1123.5,-413 1123.5,-413 1123.5,-419 1117.5,-425 1111.5,-425\"/>\r\n<text text-anchor=\"start\" x=\"1006.5\" y=\"-409.8\" font-family=\"Helvetica,sans-Serif\" font-size=\"14.00\">followers ≤ 0.002</text>\r\n<text text-anchor=\"start\" x=\"1027.5\" y=\"-394.8\" font-family=\"Helvetica,sans-Serif\" font-size=\"14.00\">gini = 0.37</text>\r\n<text text-anchor=\"start\" x=\"1013.5\" y=\"-379.8\" font-family=\"Helvetica,sans-Serif\" font-size=\"14.00\">samples = 106</text>\r\n<text text-anchor=\"start\" x=\"1012.5\" y=\"-364.8\" font-family=\"Helvetica,sans-Serif\" font-size=\"14.00\">value = [80, 26]</text>\r\n<text text-anchor=\"start\" x=\"1018\" y=\"-349.8\" font-family=\"Helvetica,sans-Serif\" font-size=\"14.00\">class = rumor</text>\r\n</g>\r\n<!-- 4&#45;&gt;10 -->\r\n<g id=\"edge23\" class=\"edge\"><title>4&#45;&gt;10</title>\r\n<path fill=\"none\" stroke=\"black\" d=\"M909.107,-466.396C934.346,-452.788 963.334,-437.158 989.177,-423.225\"/>\r\n<polygon fill=\"black\" stroke=\"black\" points=\"991.034,-426.2 998.175,-418.373 987.712,-420.038 991.034,-426.2\"/>\r\n</g>\r\n<!-- 11 -->\r\n<g id=\"node18\" class=\"node\"><title>11</title>\r\n<path fill=\"#fcefe5\" stroke=\"black\" d=\"M826,-306C826,-306 720,-306 720,-306 714,-306 708,-300 708,-294 708,-294 708,-235 708,-235 708,-229 714,-223 720,-223 720,-223 826,-223 826,-223 832,-223 838,-229 838,-235 838,-235 838,-294 838,-294 838,-300 832,-306 826,-306\"/>\r\n<text text-anchor=\"start\" x=\"732.5\" y=\"-290.8\" font-family=\"Helvetica,sans-Serif\" font-size=\"14.00\">gender ≤ 0.5</text>\r\n<text text-anchor=\"start\" x=\"735.5\" y=\"-275.8\" font-family=\"Helvetica,sans-Serif\" font-size=\"14.00\">gini = 0.498</text>\r\n<text text-anchor=\"start\" x=\"725.5\" y=\"-260.8\" font-family=\"Helvetica,sans-Serif\" font-size=\"14.00\">samples = 303</text>\r\n<text text-anchor=\"start\" x=\"716\" y=\"-245.8\" font-family=\"Helvetica,sans-Serif\" font-size=\"14.00\">value = [162, 141]</text>\r\n<text text-anchor=\"start\" x=\"730\" y=\"-230.8\" font-family=\"Helvetica,sans-Serif\" font-size=\"14.00\">class = rumor</text>\r\n</g>\r\n<!-- 9&#45;&gt;11 -->\r\n<g id=\"edge17\" class=\"edge\"><title>9&#45;&gt;11</title>\r\n<path fill=\"none\" stroke=\"black\" d=\"M819.367,-341.907C814.025,-333.105 808.32,-323.703 802.803,-314.612\"/>\r\n<polygon fill=\"black\" stroke=\"black\" points=\"805.77,-312.754 797.59,-306.021 799.785,-316.386 805.77,-312.754\"/>\r\n</g>\r\n<!-- 12 -->\r\n<g id=\"node23\" class=\"node\"><title>12</title>\r\n<path fill=\"#90c8f0\" stroke=\"black\" d=\"M974,-298.5C974,-298.5 868,-298.5 868,-298.5 862,-298.5 856,-292.5 856,-286.5 856,-286.5 856,-242.5 856,-242.5 856,-236.5 862,-230.5 868,-230.5 868,-230.5 974,-230.5 974,-230.5 980,-230.5 986,-236.5 986,-242.5 986,-242.5 986,-286.5 986,-286.5 986,-292.5 980,-298.5 974,-298.5\"/>\r\n<text text-anchor=\"start\" x=\"883.5\" y=\"-283.3\" font-family=\"Helvetica,sans-Serif\" font-size=\"14.00\">gini = 0.424</text>\r\n<text text-anchor=\"start\" x=\"873.5\" y=\"-268.3\" font-family=\"Helvetica,sans-Serif\" font-size=\"14.00\">samples = 144</text>\r\n<text text-anchor=\"start\" x=\"868\" y=\"-253.3\" font-family=\"Helvetica,sans-Serif\" font-size=\"14.00\">value = [44, 100]</text>\r\n<text text-anchor=\"start\" x=\"864\" y=\"-238.3\" font-family=\"Helvetica,sans-Serif\" font-size=\"14.00\">class = non&#45;rumor</text>\r\n</g>\r\n<!-- 9&#45;&gt;12 -->\r\n<g id=\"edge22\" class=\"edge\"><title>9&#45;&gt;12</title>\r\n<path fill=\"none\" stroke=\"black\" d=\"M870.715,-341.907C878.122,-330.652 886.173,-318.418 893.618,-307.106\"/>\r\n<polygon fill=\"black\" stroke=\"black\" points=\"896.598,-308.944 899.172,-298.667 890.751,-305.096 896.598,-308.944\"/>\r\n</g>\r\n<!-- 23 -->\r\n<g id=\"node19\" class=\"node\"><title>23</title>\r\n<path fill=\"#f4caac\" stroke=\"black\" d=\"M759.5,-179.5C759.5,-179.5 670.5,-179.5 670.5,-179.5 664.5,-179.5 658.5,-173.5 658.5,-167.5 658.5,-167.5 658.5,-123.5 658.5,-123.5 658.5,-117.5 664.5,-111.5 670.5,-111.5 670.5,-111.5 759.5,-111.5 759.5,-111.5 765.5,-111.5 771.5,-117.5 771.5,-123.5 771.5,-123.5 771.5,-167.5 771.5,-167.5 771.5,-173.5 765.5,-179.5 759.5,-179.5\"/>\r\n<text text-anchor=\"start\" x=\"677.5\" y=\"-164.3\" font-family=\"Helvetica,sans-Serif\" font-size=\"14.00\">gini = 0.465</text>\r\n<text text-anchor=\"start\" x=\"667.5\" y=\"-149.3\" font-family=\"Helvetica,sans-Serif\" font-size=\"14.00\">samples = 155</text>\r\n<text text-anchor=\"start\" x=\"666.5\" y=\"-134.3\" font-family=\"Helvetica,sans-Serif\" font-size=\"14.00\">value = [98, 57]</text>\r\n<text text-anchor=\"start\" x=\"672\" y=\"-119.3\" font-family=\"Helvetica,sans-Serif\" font-size=\"14.00\">class = rumor</text>\r\n</g>\r\n<!-- 11&#45;&gt;23 -->\r\n<g id=\"edge18\" class=\"edge\"><title>11&#45;&gt;23</title>\r\n<path fill=\"none\" stroke=\"black\" d=\"M752.877,-222.907C747.407,-211.873 741.471,-199.898 735.956,-188.773\"/>\r\n<polygon fill=\"black\" stroke=\"black\" points=\"739.019,-187.072 731.442,-179.667 732.747,-190.181 739.019,-187.072\"/>\r\n</g>\r\n<!-- 24 -->\r\n<g id=\"node20\" class=\"node\"><title>24</title>\r\n<path fill=\"#d0e8f9\" stroke=\"black\" d=\"M908,-187C908,-187 802,-187 802,-187 796,-187 790,-181 790,-175 790,-175 790,-116 790,-116 790,-110 796,-104 802,-104 802,-104 908,-104 908,-104 914,-104 920,-110 920,-116 920,-116 920,-175 920,-175 920,-181 914,-187 908,-187\"/>\r\n<text text-anchor=\"start\" x=\"800.5\" y=\"-171.8\" font-family=\"Helvetica,sans-Serif\" font-size=\"14.00\">followers ≤ 0.006</text>\r\n<text text-anchor=\"start\" x=\"817.5\" y=\"-156.8\" font-family=\"Helvetica,sans-Serif\" font-size=\"14.00\">gini = 0.491</text>\r\n<text text-anchor=\"start\" x=\"807.5\" y=\"-141.8\" font-family=\"Helvetica,sans-Serif\" font-size=\"14.00\">samples = 148</text>\r\n<text text-anchor=\"start\" x=\"806.5\" y=\"-126.8\" font-family=\"Helvetica,sans-Serif\" font-size=\"14.00\">value = [64, 84]</text>\r\n<text text-anchor=\"start\" x=\"798\" y=\"-111.8\" font-family=\"Helvetica,sans-Serif\" font-size=\"14.00\">class = non&#45;rumor</text>\r\n</g>\r\n<!-- 11&#45;&gt;24 -->\r\n<g id=\"edge19\" class=\"edge\"><title>11&#45;&gt;24</title>\r\n<path fill=\"none\" stroke=\"black\" d=\"M801.449,-222.907C807.683,-214.014 814.344,-204.509 820.777,-195.331\"/>\r\n<polygon fill=\"black\" stroke=\"black\" points=\"823.728,-197.219 826.601,-187.021 817.995,-193.201 823.728,-197.219\"/>\r\n</g>\r\n<!-- 25 -->\r\n<g id=\"node21\" class=\"node\"><title>25</title>\r\n<path fill=\"#b4daf5\" stroke=\"black\" d=\"M823,-68C823,-68 717,-68 717,-68 711,-68 705,-62 705,-56 705,-56 705,-12 705,-12 705,-6 711,-0 717,-0 717,-0 823,-0 823,-0 829,-0 835,-6 835,-12 835,-12 835,-56 835,-56 835,-62 829,-68 823,-68\"/>\r\n<text text-anchor=\"start\" x=\"732.5\" y=\"-52.8\" font-family=\"Helvetica,sans-Serif\" font-size=\"14.00\">gini = 0.473</text>\r\n<text text-anchor=\"start\" x=\"722.5\" y=\"-37.8\" font-family=\"Helvetica,sans-Serif\" font-size=\"14.00\">samples = 133</text>\r\n<text text-anchor=\"start\" x=\"721.5\" y=\"-22.8\" font-family=\"Helvetica,sans-Serif\" font-size=\"14.00\">value = [51, 82]</text>\r\n<text text-anchor=\"start\" x=\"713\" y=\"-7.8\" font-family=\"Helvetica,sans-Serif\" font-size=\"14.00\">class = non&#45;rumor</text>\r\n</g>\r\n<!-- 24&#45;&gt;25 -->\r\n<g id=\"edge20\" class=\"edge\"><title>24&#45;&gt;25</title>\r\n<path fill=\"none\" stroke=\"black\" d=\"M823.349,-103.726C816.411,-94.7878 809.059,-85.3168 802.103,-76.3558\"/>\r\n<polygon fill=\"black\" stroke=\"black\" points=\"804.746,-74.0528 795.849,-68.2996 799.216,-78.3451 804.746,-74.0528\"/>\r\n</g>\r\n<!-- 26 -->\r\n<g id=\"node22\" class=\"node\"><title>26</title>\r\n<path fill=\"#e99457\" stroke=\"black\" d=\"M946.5,-68C946.5,-68 865.5,-68 865.5,-68 859.5,-68 853.5,-62 853.5,-56 853.5,-56 853.5,-12 853.5,-12 853.5,-6 859.5,-0 865.5,-0 865.5,-0 946.5,-0 946.5,-0 952.5,-0 958.5,-6 958.5,-12 958.5,-12 958.5,-56 958.5,-56 958.5,-62 952.5,-68 946.5,-68\"/>\r\n<text text-anchor=\"start\" x=\"868.5\" y=\"-52.8\" font-family=\"Helvetica,sans-Serif\" font-size=\"14.00\">gini = 0.231</text>\r\n<text text-anchor=\"start\" x=\"862.5\" y=\"-37.8\" font-family=\"Helvetica,sans-Serif\" font-size=\"14.00\">samples = 15</text>\r\n<text text-anchor=\"start\" x=\"861.5\" y=\"-22.8\" font-family=\"Helvetica,sans-Serif\" font-size=\"14.00\">value = [13, 2]</text>\r\n<text text-anchor=\"start\" x=\"863\" y=\"-7.8\" font-family=\"Helvetica,sans-Serif\" font-size=\"14.00\">class = rumor</text>\r\n</g>\r\n<!-- 24&#45;&gt;26 -->\r\n<g id=\"edge21\" class=\"edge\"><title>24&#45;&gt;26</title>\r\n<path fill=\"none\" stroke=\"black\" d=\"M873.991,-103.726C877.984,-95.1527 882.205,-86.0891 886.226,-77.4555\"/>\r\n<polygon fill=\"black\" stroke=\"black\" points=\"889.441,-78.8423 890.491,-68.2996 883.096,-75.8869 889.441,-78.8423\"/>\r\n</g>\r\n<!-- 27 -->\r\n<g id=\"node25\" class=\"node\"><title>27</title>\r\n<path fill=\"#f5cdb0\" stroke=\"black\" d=\"M1105.5,-298.5C1105.5,-298.5 1016.5,-298.5 1016.5,-298.5 1010.5,-298.5 1004.5,-292.5 1004.5,-286.5 1004.5,-286.5 1004.5,-242.5 1004.5,-242.5 1004.5,-236.5 1010.5,-230.5 1016.5,-230.5 1016.5,-230.5 1105.5,-230.5 1105.5,-230.5 1111.5,-230.5 1117.5,-236.5 1117.5,-242.5 1117.5,-242.5 1117.5,-286.5 1117.5,-286.5 1117.5,-292.5 1111.5,-298.5 1105.5,-298.5\"/>\r\n<text text-anchor=\"start\" x=\"1023.5\" y=\"-283.3\" font-family=\"Helvetica,sans-Serif\" font-size=\"14.00\">gini = 0.469</text>\r\n<text text-anchor=\"start\" x=\"1017.5\" y=\"-268.3\" font-family=\"Helvetica,sans-Serif\" font-size=\"14.00\">samples = 64</text>\r\n<text text-anchor=\"start\" x=\"1012.5\" y=\"-253.3\" font-family=\"Helvetica,sans-Serif\" font-size=\"14.00\">value = [40, 24]</text>\r\n<text text-anchor=\"start\" x=\"1018\" y=\"-238.3\" font-family=\"Helvetica,sans-Serif\" font-size=\"14.00\">class = rumor</text>\r\n</g>\r\n<!-- 10&#45;&gt;27 -->\r\n<g id=\"edge24\" class=\"edge\"><title>10&#45;&gt;27</title>\r\n<path fill=\"none\" stroke=\"black\" d=\"M1061,-341.907C1061,-331.204 1061,-319.615 1061,-308.776\"/>\r\n<polygon fill=\"black\" stroke=\"black\" points=\"1064.5,-308.667 1061,-298.667 1057.5,-308.667 1064.5,-308.667\"/>\r\n</g>\r\n<!-- 28 -->\r\n<g id=\"node26\" class=\"node\"><title>28</title>\r\n<path fill=\"#e68743\" stroke=\"black\" d=\"M1228.5,-298.5C1228.5,-298.5 1147.5,-298.5 1147.5,-298.5 1141.5,-298.5 1135.5,-292.5 1135.5,-286.5 1135.5,-286.5 1135.5,-242.5 1135.5,-242.5 1135.5,-236.5 1141.5,-230.5 1147.5,-230.5 1147.5,-230.5 1228.5,-230.5 1228.5,-230.5 1234.5,-230.5 1240.5,-236.5 1240.5,-242.5 1240.5,-242.5 1240.5,-286.5 1240.5,-286.5 1240.5,-292.5 1234.5,-298.5 1228.5,-298.5\"/>\r\n<text text-anchor=\"start\" x=\"1150.5\" y=\"-283.3\" font-family=\"Helvetica,sans-Serif\" font-size=\"14.00\">gini = 0.091</text>\r\n<text text-anchor=\"start\" x=\"1144.5\" y=\"-268.3\" font-family=\"Helvetica,sans-Serif\" font-size=\"14.00\">samples = 42</text>\r\n<text text-anchor=\"start\" x=\"1143.5\" y=\"-253.3\" font-family=\"Helvetica,sans-Serif\" font-size=\"14.00\">value = [40, 2]</text>\r\n<text text-anchor=\"start\" x=\"1145\" y=\"-238.3\" font-family=\"Helvetica,sans-Serif\" font-size=\"14.00\">class = rumor</text>\r\n</g>\r\n<!-- 10&#45;&gt;28 -->\r\n<g id=\"edge25\" class=\"edge\"><title>10&#45;&gt;28</title>\r\n<path fill=\"none\" stroke=\"black\" d=\"M1105.06,-341.907C1117.88,-330.101 1131.86,-317.217 1144.64,-305.45\"/>\r\n<polygon fill=\"black\" stroke=\"black\" points=\"1147.02,-308.017 1152,-298.667 1142.27,-302.868 1147.02,-308.017\"/>\r\n</g>\r\n<!-- 13 -->\r\n<g id=\"node28\" class=\"node\"><title>13</title>\r\n<path fill=\"#eda979\" stroke=\"black\" d=\"M1042,-536.5C1042,-536.5 944,-536.5 944,-536.5 938,-536.5 932,-530.5 932,-524.5 932,-524.5 932,-480.5 932,-480.5 932,-474.5 938,-468.5 944,-468.5 944,-468.5 1042,-468.5 1042,-468.5 1048,-468.5 1054,-474.5 1054,-480.5 1054,-480.5 1054,-524.5 1054,-524.5 1054,-530.5 1048,-536.5 1042,-536.5\"/>\r\n<text text-anchor=\"start\" x=\"955.5\" y=\"-521.3\" font-family=\"Helvetica,sans-Serif\" font-size=\"14.00\">gini = 0.368</text>\r\n<text text-anchor=\"start\" x=\"945.5\" y=\"-506.3\" font-family=\"Helvetica,sans-Serif\" font-size=\"14.00\">samples = 214</text>\r\n<text text-anchor=\"start\" x=\"940\" y=\"-491.3\" font-family=\"Helvetica,sans-Serif\" font-size=\"14.00\">value = [162, 52]</text>\r\n<text text-anchor=\"start\" x=\"950\" y=\"-476.3\" font-family=\"Helvetica,sans-Serif\" font-size=\"14.00\">class = rumor</text>\r\n</g>\r\n<!-- 2&#45;&gt;13 -->\r\n<g id=\"edge27\" class=\"edge\"><title>2&#45;&gt;13</title>\r\n<path fill=\"none\" stroke=\"black\" d=\"M994.959,-579.907C994.685,-569.204 994.388,-557.615 994.11,-546.776\"/>\r\n<polygon fill=\"black\" stroke=\"black\" points=\"997.606,-546.574 993.85,-536.667 990.608,-546.753 997.606,-546.574\"/>\r\n</g>\r\n<!-- 14 -->\r\n<g id=\"node29\" class=\"node\"><title>14</title>\r\n<path fill=\"#e78a47\" stroke=\"black\" d=\"M1182,-536.5C1182,-536.5 1084,-536.5 1084,-536.5 1078,-536.5 1072,-530.5 1072,-524.5 1072,-524.5 1072,-480.5 1072,-480.5 1072,-474.5 1078,-468.5 1084,-468.5 1084,-468.5 1182,-468.5 1182,-468.5 1188,-468.5 1194,-474.5 1194,-480.5 1194,-480.5 1194,-524.5 1194,-524.5 1194,-530.5 1188,-536.5 1182,-536.5\"/>\r\n<text text-anchor=\"start\" x=\"1095.5\" y=\"-521.3\" font-family=\"Helvetica,sans-Serif\" font-size=\"14.00\">gini = 0.126</text>\r\n<text text-anchor=\"start\" x=\"1085.5\" y=\"-506.3\" font-family=\"Helvetica,sans-Serif\" font-size=\"14.00\">samples = 637</text>\r\n<text text-anchor=\"start\" x=\"1080\" y=\"-491.3\" font-family=\"Helvetica,sans-Serif\" font-size=\"14.00\">value = [594, 43]</text>\r\n<text text-anchor=\"start\" x=\"1090\" y=\"-476.3\" font-family=\"Helvetica,sans-Serif\" font-size=\"14.00\">class = rumor</text>\r\n</g>\r\n<!-- 2&#45;&gt;14 -->\r\n<g id=\"edge28\" class=\"edge\"><title>2&#45;&gt;14</title>\r\n<path fill=\"none\" stroke=\"black\" d=\"M1043.53,-579.907C1057.36,-568.101 1072.44,-555.217 1086.22,-543.45\"/>\r\n<polygon fill=\"black\" stroke=\"black\" points=\"1088.83,-545.823 1094.16,-536.667 1084.29,-540.5 1088.83,-545.823\"/>\r\n</g>\r\n</g>\r\n</svg>\r\n"
     },
     "metadata": {},
     "output_type": "execute_result",
     "execution_count": 19
    }
   ],
   "source": [
    "# visualize the decision tree\n",
    "import graphviz\n",
    "\n",
    "feature_names=['exclamation_mark', 'question_mark', 'friends', 'followers', 'positive_words', 'negative_words', 'positive_rate', 'has_url', 'description', 'gender', 'verified']\n",
    "class_names=['rumor', 'non-rumor']\n",
    "dot_data = tree.export_graphviz(dtree, out_file=None, feature_names=feature_names,class_names=class_names,\n",
    "                                filled=True, rounded=True,special_characters=True)\n",
    "graph1 = graphviz.Source(dot_data)\n",
    "\n",
    "import pydotplus\n",
    "graph2=pydotplus.graph_from_dot_data(dot_data)\n",
    "graph2.write_pdf('2.pdf')\n",
    "\n",
    "graph1\n"
   ],
   "metadata": {
    "collapsed": false,
    "pycharm": {
     "name": "#%%\n",
     "is_executing": false
    }
   }
  },
  {
   "cell_type": "code",
   "execution_count": 20,
   "metadata": {
    "pycharm": {
     "is_executing": false
    }
   },
   "outputs": [
    {
     "name": "stdout",
     "text": [
      "The accuracy of the Random Forest is 0.7858585858585858\n"
     ],
     "output_type": "stream"
    }
   ],
   "source": [
    "from sklearn.ensemble import RandomForestClassifier\n",
    "rfc = RandomForestClassifier(\n",
    "    n_estimators = 100,\n",
    "    criterion = 'gini',\n",
    "    random_state = 0\n",
    ")\n",
    "rfc.fit(X_train, Y_train.ravel())\n",
    "rfc_pred = rfc.predict(X_test)\n",
    "print('The accuracy of the Random Forest is', metrics.accuracy_score(rfc_pred, Y_test))"
   ]
  },
  {
   "cell_type": "code",
   "execution_count": 21,
   "metadata": {
    "pycharm": {
     "is_executing": false
    }
   },
   "outputs": [
    {
     "name": "stdout",
     "text": [
      "The accuracy of the Random Forest is 0.7717171717171717\n"
     ],
     "output_type": "stream"
    }
   ],
   "source": [
    "from sklearn.ensemble import RandomForestClassifier\n",
    "rfc = RandomForestClassifier(\n",
    "    n_estimators = 100,\n",
    "    criterion ='entropy',\n",
    "    random_state = 0\n",
    ")\n",
    "rfc.fit(X_train, Y_train.ravel())\n",
    "rfc_pred = rfc.predict(X_test)\n",
    "print('The accuracy of the Random Forest is', metrics.accuracy_score(rfc_pred, Y_test))"
   ]
  },
  {
   "cell_type": "code",
   "execution_count": 22,
   "metadata": {
    "pycharm": {
     "is_executing": false
    }
   },
   "outputs": [
    {
     "name": "stdout",
     "text": [
      "The accuracy of the AdaBoost is 0.7696969696969697\n"
     ],
     "output_type": "stream"
    }
   ],
   "source": [
    "from sklearn.ensemble import AdaBoostClassifier\n",
    "abc = AdaBoostClassifier()\n",
    "abc.fit(X_train, Y_train.ravel())\n",
    "abc_pred = abc.predict(X_test)\n",
    "print('The accuracy of the AdaBoost is', metrics.accuracy_score(abc_pred, Y_test))"
   ]
  },
  {
   "cell_type": "markdown",
   "metadata": {},
   "source": [
    "可以看到，在学习模型中，表现最好的是RandomForest模型，下面进一步调参："
   ]
  },
  {
   "cell_type": "code",
   "execution_count": 23,
   "metadata": {
    "pycharm": {
     "is_executing": false
    }
   },
   "outputs": [
    {
     "name": "stdout",
     "text": [
      "{'max_depth': 70, 'max_leaf_nodes': 82, 'n_estimators': 100}\n",
      "0.79004329004329\n"
     ],
     "output_type": "stream"
    }
   ],
   "source": [
    "from sklearn.model_selection import GridSearchCV\n",
    "\n",
    "param_grid = {'n_estimators': np.arange(10, 120,10),'max_depth':np.arange(10,100,10),'max_leaf_nodes':np.arange(2,100,20)}\n",
    "\n",
    "Rfc = RandomForestClassifier()\n",
    "Rfc_cv = GridSearchCV(Rfc, param_grid, cv=3)\n",
    "\n",
    "# change the shape of Y_train to (n_samples, ) using `.ravel()`\n",
    "Rfc_cv.fit(X_train, Y_train.ravel())\n",
    "\n",
    "print(Rfc_cv.best_params_)\n",
    "print(Rfc_cv.best_score_)"
   ]
  },
  {
   "cell_type": "code",
   "execution_count": 24,
   "metadata": {
    "pycharm": {
     "is_executing": false
    }
   },
   "outputs": [
    {
     "name": "stdout",
     "text": [
      "{'max_depth': 50, 'max_leaf_nodes': 100, 'n_estimators': 75}\n",
      "0.7913419913419913\n"
     ],
     "output_type": "stream"
    }
   ],
   "source": [
    "from sklearn.model_selection import GridSearchCV\n",
    "\n",
    "param_grid = {'n_estimators': np.arange(60, 80, 5),'max_depth':np.arange(40,60,5),'max_leaf_nodes':np.arange(60,120,10)}\n",
    "\n",
    "Rfc = RandomForestClassifier()\n",
    "Rfc_cv = GridSearchCV(Rfc, param_grid, cv=3)\n",
    "\n",
    "# change the shape of Y_train to (n_samples, ) using `.ravel()`\n",
    "Rfc_cv.fit(X_train, Y_train.ravel())\n",
    "\n",
    "print(Rfc_cv.best_params_)\n",
    "print(Rfc_cv.best_score_)"
   ]
  },
  {
   "cell_type": "code",
   "execution_count": 25,
   "metadata": {
    "pycharm": {
     "is_executing": false
    }
   },
   "outputs": [
    {
     "name": "stdout",
     "text": [
      "{'max_depth': 51, 'max_leaf_nodes': 95, 'n_estimators': 63}\n",
      "0.7909090909090909\n"
     ],
     "output_type": "stream"
    }
   ],
   "source": [
    "from sklearn.model_selection import GridSearchCV\n",
    "\n",
    "param_grid = {'n_estimators': np.arange(62, 68, 1),'max_depth':np.arange(46,52,1),'max_leaf_nodes':np.arange(90,100,1)}\n",
    "\n",
    "Rfc = RandomForestClassifier()\n",
    "Rfc_cv = GridSearchCV(Rfc, param_grid, cv=3)\n",
    "\n",
    "# change the shape of Y_train to (n_samples, ) using `.ravel()`\n",
    "Rfc_cv.fit(X_train, Y_train.ravel())\n",
    "\n",
    "print(Rfc_cv.best_params_)\n",
    "print(Rfc_cv.best_score_)"
   ]
  },
  {
   "cell_type": "code",
   "execution_count": 22,
   "metadata": {
    "pycharm": {
     "is_executing": false
    }
   },
   "outputs": [
    {
     "name": "stdout",
     "text": [
      "{'n_estimators': 170}\n",
      "0.7842424242424242\n"
     ],
     "output_type": "stream"
    }
   ],
   "source": [
    "from sklearn.model_selection import GridSearchCV\n",
    "\n",
    "param_grid = {'n_estimators': np.arange(30, 200, 10)}\n",
    "\n",
    "Rfc = RandomForestClassifier()\n",
    "Rfc_cv = GridSearchCV(Rfc, param_grid, cv=3)\n",
    "\n",
    "# change the shape of Y_train to (n_samples, ) using `.ravel()`\n",
    "Rfc_cv.fit(conX, Y.ravel())\n",
    "\n",
    "print(Rfc_cv.best_params_)\n",
    "print(Rfc_cv.best_score_)"
   ]
  },
  {
   "cell_type": "code",
   "execution_count": 28,
   "metadata": {
    "pycharm": {
     "is_executing": false
    }
   },
   "outputs": [
    {
     "name": "stdout",
     "text": [
      "{'n_estimators': 122}\n",
      "0.7844155844155845\n"
     ],
     "output_type": "stream"
    }
   ],
   "source": [
    "from sklearn.model_selection import GridSearchCV\n",
    "\n",
    "param_grid = {'n_estimators': np.arange(110, 130, 2)}\n",
    "\n",
    "Rfc = RandomForestClassifier()\n",
    "Rfc_cv = GridSearchCV(Rfc, param_grid, cv=3)\n",
    "\n",
    "# change the shape of Y_train to (n_samples, ) using `.ravel()`\n",
    "Rfc_cv.fit(X_train, Y_train.ravel())\n",
    "\n",
    "print(Rfc_cv.best_params_)\n",
    "print(Rfc_cv.best_score_)"
   ]
  },
  {
   "cell_type": "code",
   "execution_count": 21,
   "metadata": {
    "pycharm": {
     "is_executing": false
    }
   },
   "outputs": [
    {
     "name": "stdout",
     "text": [
      "The accuracy of the Random Forest is 0.7888888888888889\n"
     ],
     "output_type": "stream"
    }
   ],
   "source": [
    "from sklearn.ensemble import RandomForestClassifier\n",
    "rfc = RandomForestClassifier(\n",
    "    n_estimators = 118,\n",
    "    criterion = 'gini',\n",
    "    random_state = 0\n",
    ")\n",
    "rfc.fit(X_train, Y_train.ravel())\n",
    "rfc_pred = rfc.predict(X_test)\n",
    "print('The accuracy of the Random Forest is', metrics.accuracy_score(rfc_pred, Y_test))"
   ]
  },
  {
   "cell_type": "markdown",
   "metadata": {},
   "source": [
    "查看各特征的重要性："
   ]
  },
  {
   "cell_type": "code",
   "execution_count": 22,
   "metadata": {
    "pycharm": {
     "is_executing": false
    }
   },
   "outputs": [
    {
     "name": "stdout",
     "text": [
      "('exclamation_mark', 0.06132879347402999)\n",
      "('question_mark', 0.023456691292703936)\n",
      "('friends', 0.1518103983298208)\n",
      "('followers', 0.3542632876955608)\n",
      "('positive_words', 0.08046175973506683)\n",
      "('negative_words', 0.07246633599533094)\n",
      "('positive_rate', 0.15069153233769772)\n",
      "('has_url', 0.026621527003040508)\n",
      "('description', 0.008268131758053498)\n",
      "('gender', 0.02351405594082627)\n",
      "('verified', 0.04711748643786886)\n"
     ],
     "output_type": "stream"
    }
   ],
   "source": [
    "rfcf=RandomForestClassifier(\n",
    "    n_estimators=118,\n",
    "    criterion = 'gini',\n",
    "    random_state = 0\n",
    ")\n",
    "rfcf.fit(X_train, Y_train.ravel())\n",
    "for j in zip(feature_names, rfcf.feature_importances_):\n",
    "    print(j)"
   ]
  },
  {
   "cell_type": "markdown",
   "metadata": {},
   "source": [
    "其中依次对应：包含感叹号次数，包含问号次数，好友数，被关注量，正面词汇，负面词汇，正面率，是否包含链接，是否包含描述，性别，是否验证\n"
   ]
  },
  {
   "cell_type": "code",
   "execution_count": 29,
   "metadata": {
    "pycharm": {
     "is_executing": false
    }
   },
   "outputs": [
    {
     "name": "stdout",
     "text": [
      "[[446 109]\n",
      " [100 335]]\n",
      "[[0.45050505 0.11010101]\n",
      " [0.1010101  0.33838384]]\n",
      "<sklearn.metrics._plot.confusion_matrix.ConfusionMatrixDisplay object at 0x0000029E24378788>\n"
     ],
     "output_type": "stream"
    },
    {
     "data": {
      "text/plain": "<Figure size 432x288 with 2 Axes>",
      "image/png": "[encoded data removed]"
     },
     "metadata": {
      "needs_background": "light"
     },
     "output_type": "display_data"
    }
   ],
   "source": [
    "## Note that the version of scikit-learn must be at least 0.22\n",
    "from sklearn import metrics\n",
    "import matplotlib.pyplot as plt\n",
    "print(metrics.confusion_matrix(Y_test ,rfc_pred))\n",
    "\n",
    "disp = metrics.plot_confusion_matrix(rfc, X_test, Y_test, display_labels=class_names, normalize='all', cmap=plt.cm.Blues)\n",
    "\n",
    "print(disp.confusion_matrix)\n",
    "\n",
    "print(disp)"
   ]
  },
  {
   "cell_type": "code",
   "execution_count": 41,
   "outputs": [
    {
     "data": {
      "text/plain": "<Figure size 1080x288 with 1 Axes>",
      "image/png": "[encoded data removed]"
     },
     "metadata": {
      "needs_background": "light"
     },
     "output_type": "display_data"
    }
   ],
   "source": [
    "y_importances = rfc.feature_importances_\n",
    "x_importances = feature_names\n",
    "y_pos = np.arange(len(x_importances))\n",
    "fig = plt.figure(figsize = (15,4))\n",
    "plt.bar(y_pos, y_importances, width=0.7, align='center', alpha=0.4)\n",
    "plt.xticks(y_pos, x_importances)\n",
    "plt.ylabel('Importances')\n",
    "plt.ylim(0,0.4)\n",
    "plt.title('Features Importances')\n",
    "plt.tight_layout()\n",
    "plt.show()"
   ],
   "metadata": {
    "collapsed": false,
    "pycharm": {
     "name": "#%%\n",
     "is_executing": false
    }
   }
  },
  {
   "cell_type": "code",
   "execution_count": null,
   "outputs": [],
   "source": [
    "\n"
   ],
   "metadata": {
    "collapsed": false,
    "pycharm": {
     "name": "#%%\n"
    }
   }
  }
 ],
 "metadata": {
  "kernelspec": {
   "display_name": "Python 3",
   "language": "python",
   "name": "python3"
  },
  "language_info": {
   "codemirror_mode": {
    "name": "ipython",
    "version": 3
   },
   "file_extension": ".py",
   "mimetype": "text/x-python",
   "name": "python",
   "nbconvert_exporter": "python",
   "pygments_lexer": "ipython3",
   "version": "3.7.4"
  },
  "latex_envs": {
   "LaTeX_envs_menu_present": true,
   "autoclose": false,
   "autocomplete": true,
   "bibliofile": "biblio.bib",
   "cite_by": "apalike",
   "current_citInitial": 1,
   "eqLabelWithNumbers": true,
   "eqNumInitial": 1,
   "hotkeys": {
    "equation": "Ctrl-E",
    "itemize": "Ctrl-I"
   },
   "labels_anchors": false,
   "latex_user_defs": false,
   "report_style_numbering": false,
   "user_envs_cfg": false
  },
  "varInspector": {
   "cols": {
    "lenName": 16,
    "lenType": 16,
    "lenVar": 40
   },
   "kernels_config": {
    "python": {
     "delete_cmd_postfix": "",
     "delete_cmd_prefix": "del ",
     "library": "var_list.py",
     "varRefreshCmd": "print(var_dic_list())"
    },
    "r": {
     "delete_cmd_postfix": ") ",
     "delete_cmd_prefix": "rm(",
     "library": "var_list.r",
     "varRefreshCmd": "cat(var_dic_list()) "
    }
   },
   "types_to_exclude": [
    "module",
    "function",
    "builtin_function_or_method",
    "instance",
    "_Feature"
   ],
   "window_display": false
  },
  "pycharm": {
   "stem_cell": {
    "cell_type": "raw",
    "source": [],
    "metadata": {
     "collapsed": false
    }
   }
  }
 },
 "nbformat": 4,
 "nbformat_minor": 2
}